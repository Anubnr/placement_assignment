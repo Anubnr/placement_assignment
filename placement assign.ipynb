{
 "cells": [
  {
   "cell_type": "code",
   "execution_count": 8,
   "id": "cab86baf",
   "metadata": {},
   "outputs": [],
   "source": [
    "f = open(\"ex.txt\",\"w\")\n",
    "f.write(\"This is a placement assignment\")\n",
    "f.close()\n"
   ]
  },
  {
   "cell_type": "code",
   "execution_count": 9,
   "id": "355c10ef",
   "metadata": {},
   "outputs": [
    {
     "name": "stdout",
     "output_type": "stream",
     "text": [
      "This is a placement assignment\n"
     ]
    }
   ],
   "source": [
    "f = open(\"ex.txt\",\"r\")\n",
    "print(f.read())\n",
    "f.close()"
   ]
  },
  {
   "cell_type": "code",
   "execution_count": 13,
   "id": "d6bf8f76",
   "metadata": {},
   "outputs": [],
   "source": [
    "def Replace(serach_text, replace_text):\n",
    "    file = open(\"ex.txt\", \"r\")\n",
    "    replacement = \"\"\n",
    "    for line in file:\n",
    "        line = line.strip()\n",
    "        changes = line.replace(search_text, replace_text)\n",
    "        replacement = replacement + changes + \"\\n\"\n",
    "    file.close()\n",
    "    \n",
    "    fout = open(\"ex.txt\",\"w\")\n",
    "    fout.write(replacement)\n",
    "    fout.close()"
   ]
  },
  {
   "cell_type": "code",
   "execution_count": 14,
   "id": "67abad76",
   "metadata": {},
   "outputs": [],
   "source": [
    "Replace(\"placement\", \"screening\")"
   ]
  },
  {
   "cell_type": "code",
   "execution_count": 16,
   "id": "4aad3216",
   "metadata": {},
   "outputs": [
    {
     "name": "stdout",
     "output_type": "stream",
     "text": [
      "This is a screening assignment\n",
      "\n"
     ]
    }
   ],
   "source": [
    "f = open(\"ex.txt\", \"r\")\n",
    "print(f.read())\n",
    "f.close()"
   ]
  },
  {
   "cell_type": "code",
   "execution_count": 17,
   "id": "8b29b8a3",
   "metadata": {},
   "outputs": [],
   "source": [
    "f = open(\"Anusha.txt\",\"w\")\n",
    "f.write(\"my name is Anusha, Anusha Kethanaboina, Anusha Narasimha Anu sha\")\n",
    "f.close()"
   ]
  },
  {
   "cell_type": "code",
   "execution_count": 5,
   "id": "fd34e07c",
   "metadata": {},
   "outputs": [],
   "source": [
    "def Replace(search_text, replace_text):\n",
    "    file = open(\"Anusha.txt\", \"r\")\n",
    "    data = file.read()\n",
    "    \n",
    "    for line in data:\n",
    "        changes = line.replace(search_text, replace_text)\n",
    "        \n",
    "    file.close()\n",
    "    \n",
    "    fout = open(\"Anusha.txt\",\"w\")\n",
    "    fout.write(changes)\n",
    "    fout.close()"
   ]
  },
  {
   "cell_type": "code",
   "execution_count": 6,
   "id": "a953455d",
   "metadata": {},
   "outputs": [],
   "source": [
    "Replace(\"Anusha\", \"Anu\")"
   ]
  },
  {
   "cell_type": "code",
   "execution_count": 9,
   "id": "743162e4",
   "metadata": {},
   "outputs": [
    {
     "name": "stdout",
     "output_type": "stream",
     "text": [
      "This is a placement assignmnet\n"
     ]
    }
   ],
   "source": [
    "f = open(\"example1.txt\", \"r\")\n",
    "print(f.read())\n",
    "f.close()"
   ]
  },
  {
   "cell_type": "code",
   "execution_count": null,
   "id": "a47ca55c",
   "metadata": {},
   "outputs": [],
   "source": []
  }
 ],
 "metadata": {
  "kernelspec": {
   "display_name": "Python 3 (ipykernel)",
   "language": "python",
   "name": "python3"
  },
  "language_info": {
   "codemirror_mode": {
    "name": "ipython",
    "version": 3
   },
   "file_extension": ".py",
   "mimetype": "text/x-python",
   "name": "python",
   "nbconvert_exporter": "python",
   "pygments_lexer": "ipython3",
   "version": "3.9.7"
  }
 },
 "nbformat": 4,
 "nbformat_minor": 5
}
