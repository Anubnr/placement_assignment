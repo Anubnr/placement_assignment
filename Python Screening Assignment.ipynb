{
 "cells": [
  {
   "cell_type": "raw",
   "id": "a1cb19ca",
   "metadata": {},
   "source": [
    "1. Create a function in python to read the text file and replace specific content\n",
    "of the file."
   ]
  },
  {
   "cell_type": "code",
   "execution_count": 1,
   "id": "4a2b7970",
   "metadata": {},
   "outputs": [],
   "source": [
    "f = open(\"example1.txt\", \"w\")\n",
    "f.write(\"This is a placement assignmnet\")\n",
    "f.close()"
   ]
  },
  {
   "cell_type": "code",
   "execution_count": 2,
   "id": "92caa872",
   "metadata": {},
   "outputs": [],
   "source": [
    "def Replace(search,replace):\n",
    "    f = open(\"example1.txt\", \"r\")\n",
    "    data = f.read()\n",
    "    \n",
    "    for x in data:\n",
    "        text = data.replace(search,replace)\n",
    "        \n",
    "        data = text\n",
    "        \n",
    "    f.close()\n",
    "    \n",
    "    f =open(\"example1.txt\",\"w\")\n",
    "    f.write(data)\n",
    "    f.close()"
   ]
  },
  {
   "cell_type": "code",
   "execution_count": 3,
   "id": "2f01fada",
   "metadata": {},
   "outputs": [],
   "source": [
    "Replace(\"placement\",\"screening\")"
   ]
  },
  {
   "cell_type": "code",
   "execution_count": 4,
   "id": "40574ad2",
   "metadata": {},
   "outputs": [
    {
     "name": "stdout",
     "output_type": "stream",
     "text": [
      "This is a screening assignmnet\n"
     ]
    }
   ],
   "source": [
    "f = open(\"example1.txt\", \"r\")\n",
    "print(f.read())"
   ]
  },
  {
   "cell_type": "code",
   "execution_count": null,
   "id": "5e704e81",
   "metadata": {},
   "outputs": [],
   "source": []
  },
  {
   "cell_type": "raw",
   "id": "4d3388b7",
   "metadata": {},
   "source": [
    "2. Demonstrate use of abstract class, multiple inheritance and decorator in\n",
    "python using examples."
   ]
  },
  {
   "cell_type": "raw",
   "id": "4d58c2e6",
   "metadata": {},
   "source": [
    "abstract class: \n",
    "\n",
    "a class which contains one or more abstract methods is called an abstract class.\n",
    "    * abstract class can be considered as the blueprint for the other classes.\n",
    "    * We can define API for a set of sub-classes.\n",
    "    * It can also used by thetird_party, which will provide the implementations such as with plugins.\n",
    "    * it is usesful when working in a large group or with large code-base, where keeping all classes in mind is difficult or not possible.\n",
    "    * It reduces the complexity and also enhances the application efficiency."
   ]
  },
  {
   "cell_type": "code",
   "execution_count": 5,
   "id": "1ab00e2f",
   "metadata": {},
   "outputs": [
    {
     "name": "stdout",
     "output_type": "stream",
     "text": [
      "number of sides are 3\n",
      "number of sides are 4\n",
      "number of sides are 5\n",
      "number of sides are 6\n"
     ]
    }
   ],
   "source": [
    "from abc import ABC         # importing abstract base class\n",
    "\n",
    "class polygon(ABC):\n",
    "    def sides(self):     # absract method\n",
    "        pass\n",
    "    \n",
    "class triangle(polygon):\n",
    "    def sides(self):       # overriding the abstract method\n",
    "        print(\"number of sides are 3\")\n",
    "        \n",
    "class square(polygon):\n",
    "    def sides(self):        # overriding the abstract method\n",
    "        print(\"number of sides are 4\")\n",
    "        \n",
    "class pentagon(polygon):\n",
    "    def sides(self):         # overriding the abstract method\n",
    "        print(\"number of sides are 5\")\n",
    "\n",
    "class hexagon(polygon):\n",
    "    def sides(self):         # overriding the abstract method\n",
    "        print(\"number of sides are 6\")\n",
    "        \n",
    "                             \n",
    "# driver code\n",
    "\n",
    "t = triangle()\n",
    "t.sides()\n",
    "\n",
    "s = square()\n",
    "s.sides()\n",
    "\n",
    "p = pentagon()\n",
    "p.sides()\n",
    "\n",
    "h = hexagon()\n",
    "h.sides()\n",
    "        \n"
   ]
  },
  {
   "cell_type": "raw",
   "id": "ec9a2342",
   "metadata": {},
   "source": [
    "multiple inheritance:\n",
    "\n",
    "when a class is derived from more than one class then it is called multiple inheritance.\n",
    "    * It is useful when a subclass needs to combine multiple contracts and inherit some or all of the implementations of those contracts."
   ]
  },
  {
   "cell_type": "code",
   "execution_count": 6,
   "id": "24afc063",
   "metadata": {},
   "outputs": [
    {
     "name": "stdout",
     "output_type": "stream",
     "text": [
      "5\n",
      "3\n",
      "4.0\n"
     ]
    }
   ],
   "source": [
    "class cal_1():                 # class 1\n",
    "    def summation(self,a,b):\n",
    "        return a+b\n",
    "    \n",
    "class cal_2():                 # class 2\n",
    "    def substraction(self,a,b):\n",
    "        return a-b\n",
    "    \n",
    "class derived(cal_1,cal_2):    # derived class inheriting from class 1 and class 2\n",
    "    def division(self,a,b):\n",
    "        return a/b\n",
    "    \n",
    "d = derived()\n",
    "\n",
    "print(d.summation(4,1))\n",
    "print(d.substraction(4,1))\n",
    "print(d.division(4,1))"
   ]
  },
  {
   "cell_type": "raw",
   "id": "9ab59833",
   "metadata": {},
   "source": [
    "decorators:\n",
    "    * decorators allows the programers to modify the behaviour of the function or class.\n",
    "    * decorators allows us to wrap another function inorder to extend the behaviour of the wrapped function, without permanently modifying it.\n",
    "    * "
   ]
  },
  {
   "cell_type": "code",
   "execution_count": 7,
   "id": "37f03af3",
   "metadata": {},
   "outputs": [
    {
     "name": "stdout",
     "output_type": "stream",
     "text": [
      "12\n"
     ]
    }
   ],
   "source": [
    "def create_adder(x):\n",
    "    \n",
    "    def adder(y):\n",
    "        return x+y\n",
    "    \n",
    "    return adder\n",
    "\n",
    "add_5 = create_adder(5)\n",
    "\n",
    "print(add_5(7))\n"
   ]
  },
  {
   "cell_type": "code",
   "execution_count": null,
   "id": "a8256548",
   "metadata": {},
   "outputs": [],
   "source": []
  },
  {
   "cell_type": "code",
   "execution_count": null,
   "id": "b33bf5ba",
   "metadata": {},
   "outputs": [],
   "source": []
  }
 ],
 "metadata": {
  "kernelspec": {
   "display_name": "Python 3 (ipykernel)",
   "language": "python",
   "name": "python3"
  },
  "language_info": {
   "codemirror_mode": {
    "name": "ipython",
    "version": 3
   },
   "file_extension": ".py",
   "mimetype": "text/x-python",
   "name": "python",
   "nbconvert_exporter": "python",
   "pygments_lexer": "ipython3",
   "version": "3.9.7"
  }
 },
 "nbformat": 4,
 "nbformat_minor": 5
}
